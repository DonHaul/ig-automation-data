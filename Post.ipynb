{
 "cells": [
  {
   "cell_type": "code",
   "execution_count": 8,
   "metadata": {},
   "outputs": [],
   "source": [
    "# -*- coding: utf-8 -*-\n",
    "\n",
    "import sys\n",
    "import pandas\n",
    "import csv\n",
    "import postselenium as ps\n",
    "import hashtags\n",
    "import FileIO\n",
    "\n",
    "#location of spread\n",
    "path = \"D:/User/Desktop/Insta/Posts.xlsx\"\n",
    "\n",
    "#append in end of description\n",
    "description_end = '''👉 Segue @bolsos_cheios 👈\\n👇 Menciona alguém que precise disto 🔖\\n🤝 Partilha para ajudar os outros 😃'''\n"
   ]
  },
  {
   "cell_type": "code",
   "execution_count": 4,
   "metadata": {},
   "outputs": [],
   "source": [
    "#fetch credentials\n",
    "credentials = FileIO.getJsonFromFile(\"credentials.json\")\n",
    "\n",
    "#log into facebook creator studio\n",
    "driver = ps.LogIn(credentials)"
   ]
  },
  {
   "cell_type": "code",
   "execution_count": 10,
   "metadata": {},
   "outputs": [
    {
     "name": "stdout",
     "output_type": "stream",
     "text": [
      "Name                      23_wowee\n",
      "Description              aasdasdsd\n",
      "Hashtags         hashtag1 hashtag2\n",
      "Post Date      2020-03-25 20:34:00\n",
      "Post Time                      NaN\n",
      "Name: 272, dtype: object\n",
      "2\n",
      "#hashtag1 #hashtag2\n",
      "Waiting\n",
      "Waiting\n",
      "Waiting\n",
      "Waiting\n",
      "Waiting\n",
      "description is\n",
      "aasdasdsd\n",
      " \n",
      "👉 Segue @bolsos_cheios 👈\n",
      "👇 Menciona alguém que precise disto 🔖\n",
      "🤝 Partilha para ajudar os outros 😃\n",
      " \n",
      "#hashtag1 #hashtag2\n"
     ]
    }
   ],
   "source": [
    "\n",
    "#fetch\n",
    "df = pandas.read_excel(path,'Posts')\n",
    "\n",
    "\n",
    "#find  all files ready to upload and fetch only fields to upload\n",
    "df_uploadableData = df.loc[df['State']=='🔼'][['Name','Description','Hashtags','Post Date','Post Time']]\n",
    "\n",
    "#iterate all uploadable posts\n",
    "for  index,row in df_uploadableData.iterrows():\n",
    "    print(row)\n",
    "    \n",
    "    #set full path\n",
    "    row['Image']=\"D:\\\\User\\Desktop\\\\Insta\\\\Posts\\\\\" + row['Name'] + \".png\"\n",
    "    \n",
    "    #ready up description\n",
    "    row_hashtags = hashtags.GetTextFromHashtaglist(row['Hashtags'].split())\n",
    "    row['Description'] = row['Description'] + \"\\n \\n\" + description_end +\"\\n \\n\" + row_hashtags\n",
    "    \n",
    "    #Post It\n",
    "    ps.SchedulePost(row,driver)\n",
    "    \n",
    "\n"
   ]
  },
  {
   "cell_type": "code",
   "execution_count": 17,
   "metadata": {},
   "outputs": [
    {
     "name": "stderr",
     "output_type": "stream",
     "text": [
      "D:\\Users\\Ramiro\\Anaconda3\\lib\\site-packages\\xlsxwriter\\worksheet.py:832: UserWarning: Ignoring URL 'https://www.google.com/search?q=grau+de+risco+de+investimento&tbm=isch&ved=2ahUKEwjHxaqNxNvnAhVO3hoKHQujAb4Q2-cCegQIABAA&oq=grau+de+risco+de+investimento&gs_l=img.3..35i39.132221.132221..132381...0.0..0.134.134.0j1......0....1..gws-wiz-img.9d2dd2M5ECk&ei=QxJMXoeYD868a4vGhvAL&bih=937&biw=1920' with link or location/anchor > 255 characters since it exceeds Excel's limit for URLS\n",
      "  force_unicode(url))\n",
      "D:\\Users\\Ramiro\\Anaconda3\\lib\\site-packages\\xlsxwriter\\worksheet.py:832: UserWarning: Ignoring URL 'https://www.google.com/search?q=risk+reward+finance&tbm=isch&ved=2ahUKEwjutf6XxdvnAhUFgHMKHSNRBL0Q2-cCegQIABAA&oq=risk+reward+fin&gs_l=img.1.1.0i24l2.176990.177950..179780...1.0..0.125.487.0j4......0....1..gws-wiz-img.......0j0i8i30.SsnHnX6YL-g&ei=ZhNMXu7qAYWAzgOjopHoCw&bih=937&biw=1920' with link or location/anchor > 255 characters since it exceeds Excel's limit for URLS\n",
      "  force_unicode(url))\n"
     ]
    }
   ],
   "source": [
    "#change state\n",
    "df.loc[df['State']=='🔼','State']='✅'\n",
    "\n",
    "#Save back the file\n",
    "df.to_excel(path,index=False)\n",
    "\n",
    "driver.quit()"
   ]
  }
 ],
 "metadata": {
  "kernelspec": {
   "display_name": "Python 3",
   "language": "python",
   "name": "python3"
  },
  "language_info": {
   "codemirror_mode": {
    "name": "ipython",
    "version": 3
   },
   "file_extension": ".py",
   "mimetype": "text/x-python",
   "name": "python",
   "nbconvert_exporter": "python",
   "pygments_lexer": "ipython3",
   "version": "3.6.5"
  }
 },
 "nbformat": 4,
 "nbformat_minor": 2
}
